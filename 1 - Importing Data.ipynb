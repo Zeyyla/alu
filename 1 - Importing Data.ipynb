{
 "cells": [
  {
   "cell_type": "code",
   "execution_count": 31,
   "metadata": {},
   "outputs": [],
   "source": [
    "from Bio import SeqIO\n",
    "import pandas as pd"
   ]
  },
  {
   "cell_type": "code",
   "execution_count": 24,
   "metadata": {},
   "outputs": [],
   "source": [
    "Baboons = list(SeqIO.parse(\"data/Baboons (sample).fasta\", \"fasta\"))"
   ]
  },
  {
   "cell_type": "code",
   "execution_count": 33,
   "metadata": {},
   "outputs": [
    {
     "name": "stdout",
     "output_type": "stream",
     "text": [
      "papAnu2_rmsk_AluSx range=chr1:83886005-83886311 5'pad=0 3'pad=0 strand=- repeatMasking=none\n",
      "\n",
      "papAnu2_rmsk_AluJb range=chr1:1048537-1048694 5'pad=0 3'pad=0 strand=- repeatMasking=none\n",
      "\n",
      "papAnu2_rmsk_AluSx1 range=chr1:3145663-3145925 5'pad=0 3'pad=0 strand=- repeatMasking=none\n",
      "\n",
      "papAnu2_rmsk_AluY range=chr1:6291192-6291470 5'pad=0 3'pad=0 strand=+ repeatMasking=none\n",
      "\n",
      "papAnu2_rmsk_AluJo range=chr1:26214269-26214551 5'pad=0 3'pad=0 strand=+ repeatMasking=none\n",
      "\n",
      "papAnu2_rmsk_AluSz range=chr1:37748454-37748761 5'pad=0 3'pad=0 strand=+ repeatMasking=none\n",
      "\n"
     ]
    }
   ],
   "source": [
    "for b in Baboons:\n",
    "    print(b.description)\n",
    "    print()"
   ]
  },
  {
   "cell_type": "code",
   "execution_count": null,
   "metadata": {
    "collapsed": true
   },
   "outputs": [],
   "source": []
  }
 ],
 "metadata": {
  "kernelspec": {
   "display_name": "Python 3",
   "language": "python",
   "name": "python3"
  },
  "language_info": {
   "codemirror_mode": {
    "name": "ipython",
    "version": 3
   },
   "file_extension": ".py",
   "mimetype": "text/x-python",
   "name": "python",
   "nbconvert_exporter": "python",
   "pygments_lexer": "ipython3",
   "version": "3.6.7"
  }
 },
 "nbformat": 4,
 "nbformat_minor": 2
}
